{
 "cells": [
  {
   "cell_type": "markdown",
   "metadata": {},
   "source": [
    "## 5.1.1-TXT文本存储\n",
    "\n",
    "\n",
    "本节中，我们要保存知乎上“发现”页面的“热门话题”部分，将其问题和答案统一保存成文本形式。\n"
   ]
  },
  {
   "cell_type": "code",
   "execution_count": 6,
   "metadata": {},
   "outputs": [],
   "source": [
    "import requests\n",
    "from pyquery import PyQuery as pq\n",
    "\n",
    "\n",
    "url = 'https://www.zhihu.com/explore'\n",
    "headers = {\n",
    "    'User-Agent':'Mozilla/5.0 (Linux; Android 6.0; Nexus 5 Build/MRA58N) AppleWebKit/537.36 (KHTML, like Gecko) Chrome/64.0.3282.186 Mobile Safari/537.36'\n",
    "}\n",
    "html = requests.get(url, headers=headers).text\n",
    "doc = pq(html)\n",
    "items = doc('.explore-tab .feed-item').items()\n",
    "for item in items:\n",
    "    question = item.find('h2').text()\n",
    "    author = item.find('.author-link-line').text()\n",
    "    answer = pq(item.find('.content').html()).text()\n",
    "    with open('explore.txt', 'a', encoding='utf-8') as f:\n",
    "        f.write('\\n'.join([question, author, answer]))\n",
    "        f.write('\\n' + '='* 50 + '\\n')\n",
    "        "
   ]
  },
  {
   "cell_type": "markdown",
   "metadata": {},
   "source": [
    "如何用平淡的语气写出虐到让人喘不过气，或让读者感到震撼、震惊的感觉？\n",
    "戈玄白\n",
    "在我选择读法律前，曾看过一部小说，叫《原谅我红尘颠倒》。作者是慕容雪村，当年的网络四大写手之一，在天涯论坛很有名气。\n",
    "\n",
    "\n",
    "他的小说总是把现实写的很刻薄，这本讲律师的书语调平缓，却在叙述一个残酷的世界，让你不敢信而又不能不信。实体书的结尾，作者写道这整本书都不过是男主角的一场梦，大梦惊醒后一切回到起点，于是罪恶消散黑暗隐退，主人公决定幡然悔悟拉女朋友去结婚，决定从此做个好人。\n",
    "\n",
    "\n",
    "但这不过是为了出版而改的结局，在连载版中男主是被作者写死了的，作者后来在网上说：我不能不把他写死，我把他塑造成了一个这样的形象，如果他不是以死赎罪我自己都接受不了。（大意如此，我以前看到的）\n",
    "\n",
    "\n",
    "但主人公实在是让人又爱又恨，他并非从来就是这样一个冷血的性子，而是由来有自、为现实所迫的。因此在鄙夷之外，读者又很难不去同情他。\n",
    "\n",
    "\n",
    "缘何身染红尘，只因生在红尘中。缘何红尘颠倒，只因人世本非正。\n",
    "\n",
    "\n",
    "\n",
    "\n",
    "\n",
    "\n",
    "84年暑假，有个农民带了3只鸡和42个鸡蛋到镇上赶集，想卖了钱给儿子交学费，没想一出门就遇上了公安局，那年头的公安局爱喝鸡汤，立马铐了起来，鸡和蛋全部收归国有，还说犯了投机倒把罪，要判刑。这家人慌了，四处借了260元钱，派他儿子送到派出所，赶到时天已经黑了，整个派出所弥漫着炖鸡香味，所长大人头戴大沿帽，手执肥鸡腿，左啃一口右啃一口，样子威武庄严，十分专政。\n",
    "\n",
    "\n",
    "那农民铐在墙边的栏杆上，衣服全撕破了，身上血迹斑斑，趴在地上一动不动，不知是死是活。他儿子把钱送上，吓得话都说不出来。\n",
    "\n",
    "\n",
    "所长剔了剔牙，问他：“几岁了？干什么的？”\n",
    "\n",
    "\n",
    "那儿子回答：“15了，学生。”\n",
    "\n",
    "\n",
    "所长把钱收下，用油乎乎的手拍拍他的头：“小兔崽子，别跟你爹学，长大了做个好人！”\n",
    "\n",
    "\n",
    "\n",
    "1984年，我刚刚初中毕业，中考成绩全县第一。在那间飘着炖鸡香味的土坯平房里，我上了人生的第一堂伦理课：做个好人。\n",
    "\n",
    "\n",
    "那夜里我背着爸爸回家，他一直没说话，路上摔了一跤，半天爬不起来。他摸着我的脸问我：“儿子，你能考上大学吧？”\n",
    "\n",
    "我说：“一定能！”\n",
    "\n",
    "他沉默了半天，一字一句地说：\n",
    "\n",
    "\n",
    "“学法律。”\n",
    "\n",
    "我说：“好，学法律！”\n",
    "\n",
    "\n",
    "\n",
    "\n",
    "\n",
    "\n",
    "——《原谅我红尘颠倒》\n",
    "\n",
    "\n",
    "by：慕容雪村\n",
    "==================================================\n",
    ".\n",
    ".\n",
    ".\n",
    "\n",
    "==================================================\n",
    "如何评价 THUPC（清华校赛）2018？\n",
    "Apia Du\n",
    "场外ob选手从题目角度评价一下\n",
    "\n",
    "\n",
    "A 简单题，还是比较有趣的一个题。\n",
    "\n",
    "\n",
    "B 原题，csacademy也出过，BZOJ的链接也被贴出来了。\n",
    "\n",
    "\n",
    "比较好奇的是这个范围为啥这么大，而且看了眼题解。。。。感觉这辈子第一次看见2e6*2e6的bitset。。。而且感觉打算法竞赛以来都没写过2^24的FFT。\n",
    "\n",
    "\n",
    "C 从某种意义上来说就是oeis上随便找了个数列，然后让你求出来。\n",
    "\n",
    "\n",
    "好在这个题oeis上也没有什么formula，不过出这种题原则上还是不要能被oeis到比较好。从题目本身来说我还是比较喜欢的。用的技巧和无标号有根树差不多，不过这玩意好像是六七年前学的，比赛的时候一时半会儿没想起来。还有题解里写的分块FFT。。。都21世纪了CDQ分治还没有深入人心。。。还有人在不用分治再用分块FFT的么。。。？\n",
    "\n",
    "\n",
    "D n=1的case是原题，来自Ural Championship 2013，也出现在14年的清华夏令营中。\n",
    "\n",
    "\n",
    "不过n=6和n=1除了难写一点。。。好像没有啥区别啊？\n",
    "\n",
    "\n",
    "E n=3000的case是原题，来自Topcoder SRM 654.\n",
    "\n",
    "\n",
    "改成n<=3e5做法感觉没有什么差异，就多了一个多点求值。不过比赛的时候好像失了智。。。对着原题n^2的dp推了很久。。。\n",
    "\n",
    "\n",
    "F 好像学密码学的时候就见过这东西啊。。。不过很简单就是了= =\n",
    "\n",
    "\n",
    "G 好像就是把扫描线点定位和动态树无脑结合起来啊？。。。题目有点逐渐三哥化了啊。。。\n",
    "\n",
    "\n",
    "H \"translate directly very chaotic statement into C++\"。。。感觉堆10个操作的模拟题。。。也有点三哥化啊。。。\n",
    "\n",
    "\n",
    "I 感觉做过一个一模一样的题。。。不过忘了出处就不说了。。。\n",
    "\n",
    "\n",
    "J 一道比较中规中矩的数据结构题吧。。。不过也没有什么亮点。\n",
    "\n",
    "\n",
    "K 题目本身还行。感觉贵清天天出题出2148473648和100000007。。。有点恶趣味啊。。。\n",
    "\n",
    "\n",
    "L 感觉还行吧。\n",
    "\n",
    "\n",
    "M 延续去年。。。的传统？\n",
    "\n",
    "\n",
    "总结一下。。。\n",
    "\n",
    "\n",
    "我觉得这套题的最大的问题就是不太新颖和creative。很多题都是在原题的基础上进行了一些修改，或者把某些简单的东西进行了一些拼接，能看到别的题目的影子。CDEGH这五个难题里面没有特别新颖有趣的题。当然会有上面的感觉也可能是因为我做过的题太多了。然后这套题里面我最喜欢的题是A题。对于一道题目我觉得自然新颖有趣比难度更加重要。\n",
    "\n",
    "\n",
    "然后是题目风格。和去年一样THUPC还是有一种浓厚的OI风格。不过似乎很难形式化地描述OI风格和ICPC风格。题目考察整体偏向于技术和代码方面，没有一些特别有想法的题，这点可能和WF有点五五开。有三个FFT题，这点感觉有点贵国特色。然后这个中文题面也有一种很出戏的感觉。不过这东西好像也没啥办法，OI题train多了出出来的题可能也就是这样。\n",
    "\n",
    "\n",
    "然后是组题，最大的问题就是少了点中档题吧。。。把一些三哥题换成中档题可能会好一点。\n",
    "\n",
    "\n",
    "不过这套题和国内区域赛相比还是能算上乘吧，放在Opencup里面能算中上。\n",
    "\n",
    "\n",
    "嘛。。。说了这么多还是希望贵清校赛能越办越好的，大家体验也能越来越好\n",
    "==================================================\n",
    "你用过哪些强大的快捷键？\n",
    "利兄\n",
    "我觉得office里面有2个快捷键非常强大，简直是强大到没朋友。\n",
    "\n",
    "\n",
    "一个是PPT里面的F4，在EXCEL或者word里面也可以用。\n",
    "\n",
    "\n",
    "Office中的“F4” = 重复上一步操作\n",
    "\n",
    "\n",
    "什么意思呢？比如我输入“利兄”，按一下F4, 就会自动再输入一遍“利兄”；\n",
    "\n",
    "案例\n",
    "\n",
    "\n",
    "F4相当于复制、粘贴、对齐和格式刷。\n",
    "复制粘贴\n",
    "输入一段文字后，要想在文档其他部分重复输入，可以直接召唤F4，无需复制粘贴的操作！具体可以看案例一。\n",
    "\n",
    "\n",
    "复制粘贴+对齐\n",
    "\n",
    "\n",
    "什么意思呢？就是在复制粘贴过程中，保证复制出的形状与前一个形状对齐。\n",
    "案例二\n",
    "如果我想生成4个圆角矩形，而且要保证圆角矩形之间横向对齐，间距相等，该怎么做？\n",
    "第一步，我们可以先画一个圆角矩形\n",
    "第二步，按住Ctrl+Shift，然后横向拖动鼠标复制出一个圆角矩形\n",
    "第三步，按一下F4，就会等间距复制一个圆角矩形\n",
    "\n",
    "\n",
    "\n",
    "\n",
    "格式刷\n",
    "\n",
    "\n",
    "什么意思呢？就是我们可以复制上一步动作中的格式样式，比如改变字体，加粗，颜色变化。\n",
    "\n",
    "\n",
    "案例三\n",
    "如果我想将上面的4个圆角矩形的颜色更改为橘红色，那该怎么做？\n",
    "第一步，我们可以先将其中一个圆角矩形的颜色改为橘红色~\n",
    "第二步，然后选中其它的圆角矩形，按一下F4，就可以了~\n",
    "\n",
    "\n",
    "\n",
    "\n",
    "同样的道理在文字中也一样，比如我们写好一个PPT，想突出一些关键的信息，我们就可以用F4进行快速的格式刷。\n",
    "\n",
    "\n",
    "案例四\n",
    "我们要将傅园慧个人简介中的关键信息标红，该怎么做呢？\n",
    "\n",
    "\n",
    "第一步，我们可以先将其中的“浙江杭州”改为橘红色~\n",
    "第二步，然后挨个选中其它的关键信息，按一下F4，就可以了~\n",
    "\n",
    "\n",
    "\n",
    "\n",
    "表格处理\n",
    "F4在表格处理上也有着天然独厚的优势，比如我们增加表格的行数，合并单元格，更改颜色等等。\n",
    ".\n",
    ".\n",
    ".\n",
    "\n",
    "==================================================\n",
    "\n",
    "\n",
    "\n",
    "## 5.1.2-JSON文件存储\n",
    "\n",
    "### 2. 读取JSON\n",
    "\n",
    "Python为我们提供了简单易用的库来实现JSON文件的读写操作，我们可以调用库的loads()方法将JSON文本字符串转为JSON对象，可以通过dumps()方法将JSON对象转为文本字符串。\n",
    "\n",
    "例如，这里有一段JSON形式的字符串，它是str类型，我们用Python将其转换为可操作的数据结构，如列表或字典"
   ]
  },
  {
   "cell_type": "code",
   "execution_count": 7,
   "metadata": {},
   "outputs": [
    {
     "name": "stdout",
     "output_type": "stream",
     "text": [
      "<class 'str'>\n",
      "[{'name': 'Bob', 'gender': 'male', 'birthday': '1992-10-18'}, {'name': 'Selina', 'gender': 'female', 'birthday': '1995-10-18'}]\n",
      "<class 'list'>\n"
     ]
    }
   ],
   "source": [
    "import json\n",
    "\n",
    "str1 = '''\n",
    "[{\n",
    "    \"name\": \"Bob\",\n",
    "    \"gender\": \"male\",\n",
    "    \"birthday\": \"1992-10-18\"\n",
    "}, {\n",
    "    \"name\": \"Selina\",\n",
    "    \"gender\": \"female\",\n",
    "    \"birthday\": \"1995-10-18\"\n",
    "}]\n",
    "'''\n",
    "\n",
    "print(type(str1))\n",
    "data = json.loads(str1)\n",
    "print(data)\n",
    "print(type(data))"
   ]
  },
  {
   "cell_type": "code",
   "execution_count": 9,
   "metadata": {},
   "outputs": [
    {
     "name": "stdout",
     "output_type": "stream",
     "text": [
      "Bob\n",
      "Bob\n"
     ]
    }
   ],
   "source": [
    "print(data[0]['name'])\n",
    "print(data[0].get('name'))"
   ]
  },
  {
   "cell_type": "code",
   "execution_count": 10,
   "metadata": {},
   "outputs": [
    {
     "name": "stdout",
     "output_type": "stream",
     "text": [
      "None\n",
      "25\n"
     ]
    }
   ],
   "source": [
    "print(data[0].get('age'))\n",
    "print(data[0].get('age', 25))"
   ]
  },
  {
   "cell_type": "markdown",
   "metadata": {},
   "source": [
    "JSON的数据需要用双引号来包围，不能使用单引号"
   ]
  },
  {
   "cell_type": "code",
   "execution_count": 14,
   "metadata": {},
   "outputs": [
    {
     "name": "stdout",
     "output_type": "stream",
     "text": [
      "[{'name': 'Bob', 'gender': 'male', 'birthday': '1992-10-18'}, {'name': 'Selina', 'gender': 'female', 'birthday': '1995-10-18'}]\n"
     ]
    }
   ],
   "source": [
    "import json\n",
    "\n",
    "with open('data.json', 'r') as file:\n",
    "    str1 = file.read()\n",
    "    data = json.loads(str1)\n",
    "    print(data)"
   ]
  },
  {
   "cell_type": "markdown",
   "metadata": {},
   "source": [
    "注意 ：\n",
    "1. data.json 文本内的内容 如下 ：\n",
    "\n",
    "```\n",
    "[{\n",
    "    \"name\": \"Bob\",\n",
    "    \"gender\": \"male\",\n",
    "    \"birthday\": \"1992-10-18\"\n",
    "}, {\n",
    "    \"name\": \"Selina\",\n",
    "    \"gender\": \"female\",\n",
    "    \"birthday\": \"1995-10-18\"\n",
    "}]\n",
    "```\n",
    "\n",
    "是双引号 \n",
    "\n",
    "2. 代码执行完出来后 是单引号 \n",
    "\n",
    "\n",
    "### 3. 输出JSON\n",
    "\n",
    "另外，我们还可以调用dumps()方法将JSON对象转化为字符串。例如，将上例中\n",
    "的列表重新写入文本："
   ]
  },
  {
   "cell_type": "code",
   "execution_count": 16,
   "metadata": {},
   "outputs": [],
   "source": [
    "import json\n",
    "\n",
    "data = [{\n",
    "    'name': 'Bob',\n",
    "    'gender': 'male',\n",
    "    'birthday': '1992-10-18'\n",
    "}]\n",
    "\n",
    "with open('data.json', 'w') as file:\n",
    "    file.write(json.dumps(data))"
   ]
  },
  {
   "cell_type": "code",
   "execution_count": 17,
   "metadata": {},
   "outputs": [],
   "source": [
    "with open('data1.json', 'w') as file:\n",
    "    file.write(json.dumps(data, indent=2))"
   ]
  },
  {
   "cell_type": "code",
   "execution_count": 18,
   "metadata": {},
   "outputs": [],
   "source": [
    "import json\n",
    "\n",
    "data = [{\n",
    "    'name': '王伟',\n",
    "    'gender': '男',\n",
    "    'birthday': '1992-10-18'\n",
    "}]\n",
    "with open('data2.json', 'w') as file:\n",
    "    file.write(json.dumps(data, indent=2))"
   ]
  },
  {
   "cell_type": "code",
   "execution_count": 20,
   "metadata": {},
   "outputs": [],
   "source": [
    "with open('data3.json', 'w', encoding='utf-8') as file:\n",
    "    file.write(json.dumps(data, indent=2, ensure_ascii=False))"
   ]
  },
  {
   "cell_type": "markdown",
   "metadata": {},
   "source": [
    "## 5.1.3-CSV文件存储\n",
    "\n",
    "CSV，全称为Comma-Separated Values，中文可以叫作逗号分隔值或字符分隔值，其文件以纯文本形式存储表格数据。该文件是一个字符序列，可以由任意数目的记录组成，记录间以某种换行符分隔。每条记录由字段组成，字段间的分隔符是其他字符或字符串，最常见的是逗号或制表符。不过所有记录都有完全相同的字段序列，相当于一个结构化表的纯文本形式。它比Excel文件更加简介，XLS文本是电子表格，它包含了文本、数值、公式和格式等内容，而CSV中不包含这些内容，就是特定字符分隔的纯文本，结构简单清晰。所以，有时候用CSV来保存数据是比较方便的。本节中，我们来讲解Python读取和写入CSV文件的过程。\n"
   ]
  },
  {
   "cell_type": "code",
   "execution_count": 21,
   "metadata": {},
   "outputs": [],
   "source": [
    "import csv\n",
    "\n",
    "with open('data.csv', 'w') as csvfile:\n",
    "    writer = csv.writer(csvfile)\n",
    "    writer.writerow(['id', 'name', 'age'])\n",
    "    writer.writerow(['10001', 'Mike', 20]) \n",
    "    writer.writerow(['10002','Bob', 22])\n",
    "    writer.writerow(['10003', 'Jordan', 21])"
   ]
  },
  {
   "cell_type": "code",
   "execution_count": 22,
   "metadata": {},
   "outputs": [],
   "source": [
    "import csv\n",
    "\n",
    "with open('data.csv', 'w') as csvfile:\n",
    "    writer = csv.writer(csvfile, delimiter=' ')\n",
    "    writer.writerow(['id', 'name', 'age'])\n",
    "    writer.writerow(['10001', 'Mike', 20]) \n",
    "    writer.writerow(['10002','Bob', 22])\n",
    "    writer.writerow(['10003', 'Jordan', 21])"
   ]
  },
  {
   "cell_type": "code",
   "execution_count": 24,
   "metadata": {},
   "outputs": [],
   "source": [
    "import csv\n",
    "\n",
    "with open('data.csv', 'a') as csvfile:\n",
    "    writer = csv.writer(csvfile, delimiter=' ')\n",
    "    writer.writerow(['id', 'name', 'age'])\n",
    "    writer.writerows([['10001', 'Mike', 20], ['10002', 'Bob', 22], ['10003', 'Jordan', 21]])"
   ]
  },
  {
   "cell_type": "code",
   "execution_count": 25,
   "metadata": {},
   "outputs": [],
   "source": [
    "import csv \n",
    "\n",
    "with open('data1.csv', 'w') as csvfile:\n",
    "    fieldnames = ['id', 'name', 'age']\n",
    "    writer = csv.DictWriter(csvfile, fieldnames=fieldnames)\n",
    "    writer.writeheader()\n",
    "    writer.writerow({'id':'10001', 'name':'Mike', 'age': 20})\n",
    "    writer.writerow({'id': '10002', 'name': 'Bob', 'age': 22})\n",
    "    writer.writerow({'id': '10003', 'name': 'Jordan', 'age': 21})"
   ]
  },
  {
   "cell_type": "code",
   "execution_count": 26,
   "metadata": {},
   "outputs": [],
   "source": [
    "import csv\n",
    "\n",
    "with open('data.csv', 'a') as csvfile:\n",
    "    fieldnames = ['id', 'name', 'age']\n",
    "    writer = csv.DictWriter(csvfile, fieldnames=fieldnames)\n",
    "    writer.writerow({'id': '10004', 'name': 'Durant', 'age': 22})"
   ]
  },
  {
   "cell_type": "code",
   "execution_count": 27,
   "metadata": {},
   "outputs": [],
   "source": [
    "import csv\n",
    "\n",
    "with open('data.csv', 'a', encoding='utf-8') as csvfile:\n",
    "    fieldnames = ['id', 'name', 'age']\n",
    "    writer = csv.DictWriter(csvfile, fieldnames=fieldnames)\n",
    "    writer.writerow({'id': '10005', 'name': '王伟', 'age': 22})"
   ]
  },
  {
   "cell_type": "code",
   "execution_count": 28,
   "metadata": {},
   "outputs": [
    {
     "name": "stdout",
     "output_type": "stream",
     "text": [
      "['id name age']\n",
      "[]\n",
      "['10001 Mike 20']\n",
      "[]\n",
      "['10002 Bob 22']\n",
      "[]\n",
      "['10003 Jordan 21']\n",
      "[]\n",
      "['id name age']\n",
      "[]\n",
      "['10001 Mike 20']\n",
      "[]\n",
      "['10002 Bob 22']\n",
      "[]\n",
      "['10003 Jordan 21']\n",
      "[]\n",
      "['10004', 'Durant', '22']\n",
      "[]\n",
      "['10005', '王伟', '22']\n",
      "[]\n"
     ]
    }
   ],
   "source": [
    "import csv\n",
    "\n",
    "with open('data.csv', 'r', encoding='utf-8') as f:\n",
    "    reader = csv.reader(f)\n",
    "    \n",
    "    for row in reader:\n",
    "        print(row)\n",
    "        \n",
    "    "
   ]
  },
  {
   "cell_type": "code",
   "execution_count": 32,
   "metadata": {},
   "outputs": [
    {
     "name": "stdout",
     "output_type": "stream",
     "text": [
      "       id name age\n",
      "0    10001 Mike 20\n",
      "1     10002 Bob 22\n",
      "2  10003 Jordan 21\n",
      "3      id name age\n",
      "4    10001 Mike 20\n",
      "5     10002 Bob 22\n",
      "6  10003 Jordan 21\n",
      "<class 'pandas.core.frame.DataFrame'>\n"
     ]
    }
   ],
   "source": [
    "import pandas as pd\n",
    "\n",
    "df = pd.read_csv('data.csv')\n",
    "print(df)\n",
    "print(type(df))"
   ]
  },
  {
   "cell_type": "markdown",
   "metadata": {},
   "source": [
    "## 5.2-关系型数据库存储\n",
    "\n",
    "### 5.2.1-MySQL存储\n",
    "\n"
   ]
  },
  {
   "cell_type": "code",
   "execution_count": null,
   "metadata": {},
   "outputs": [],
   "source": [
    "import pymysql\n",
    "\n",
    "db = pymysql.connect(host='localhost',user='root', password='123456', port=3306)\n",
    "cursor = db.cursor()\n",
    "cursor.execute('SELECT VERSION()')\n",
    "data = cursor.fetchone()\n",
    "print('Database version:', data)\n",
    "cursor.execute(\"CREATE DATABASE spiders DEFAULT CHARACTER SET utf8\")\n",
    "db.close()"
   ]
  },
  {
   "cell_type": "code",
   "execution_count": 45,
   "metadata": {},
   "outputs": [],
   "source": [
    "import pymysql\n",
    "\n",
    "db = pymysql.connect(host='localhost', user='root', password='123456', port=3306, db='spiders')\n",
    "cursor = db.cursor()\n",
    "sql = 'CREATE TABLE IF NOT EXISTS students (id VARCHAR(255) NOT NULL, name VARCHAR(255) NOT NULL, age INT NOT NULL, PRIMARY KEY (id))'\n",
    "cursor.execute(sql)\n",
    "db.close()"
   ]
  },
  {
   "cell_type": "code",
   "execution_count": 46,
   "metadata": {},
   "outputs": [],
   "source": [
    "import pymysql \n",
    "\n",
    "id = '20180001'\n",
    "user= 'Bob'\n",
    "age = 20\n",
    "\n",
    "db = pymysql.connect(host='localhost', user='root', password='123456',port=3306, db='spiders')\n",
    "cursor = db.cursor()\n",
    "sql = 'INSERT INTO students(id, name, age) values(%s, %s, %s)'\n",
    "try:\n",
    "    cursor.execute(sql, (id, user, age))\n",
    "    db.commit()\n",
    "except:\n",
    "    db.rollback()\n",
    "db.close()    "
   ]
  },
  {
   "cell_type": "code",
   "execution_count": 54,
   "metadata": {},
   "outputs": [
    {
     "name": "stdout",
     "output_type": "stream",
     "text": [
      "Successful\n"
     ]
    }
   ],
   "source": [
    "db = pymysql.connect(host='localhost', user='root', password='123456',port=3306, db='spiders')\n",
    "cursor = db.cursor()\n",
    "\n",
    "data = {\n",
    "    'id': '20120001',\n",
    "    'name': 'Bob',\n",
    "    'age': 20\n",
    "}\n",
    "table = 'students'\n",
    "keys = ', '.join(data.keys())\n",
    "values = ', '.join(['%s'] * len(data))\n",
    "sql = 'INSERT INTO {table}({keys}) VALUES ({values})'.format(table=table, keys=keys, values=values)\n",
    "try:    \n",
    "    if cursor.execute(sql, tuple(data.values())):\n",
    "        print('Successful')\n",
    "        db.commit()\n",
    "except:\n",
    "    print('Failed')\n",
    "    db.rollback()\n",
    "db.close()"
   ]
  },
  {
   "cell_type": "code",
   "execution_count": 56,
   "metadata": {},
   "outputs": [],
   "source": [
    "db = pymysql.connect(host='localhost', user='root', password='123456',port=3306, db='spiders')\n",
    "cursor = db.cursor()\n",
    "\n",
    "sql = 'UPDATE students SET age = %s WHERE name = %s'\n",
    "try:\n",
    "    cursor.execute(sql, (25, 'Bob'))\n",
    "    db.commit()\n",
    "except:\n",
    "    db.rollback()\n",
    "db.close()"
   ]
  },
  {
   "cell_type": "code",
   "execution_count": 57,
   "metadata": {},
   "outputs": [
    {
     "name": "stdout",
     "output_type": "stream",
     "text": [
      "Successful\n"
     ]
    }
   ],
   "source": [
    "db = pymysql.connect(host='localhost', user='root', password='123456',port=3306, db='spiders')\n",
    "cursor = db.cursor()\n",
    "\n",
    "data = {\n",
    "    'id': '20120001',\n",
    "    'name': 'Bob',\n",
    "    'age': 21\n",
    "}\n",
    "\n",
    "table = 'students'\n",
    "keys = ', '.join(data.keys())\n",
    "values = ', '.join(['%s'] * len(data)) # %s %s %s\n",
    "\n",
    "sql = 'INSERT INTO {table}({keys}) VALUES ({values}) ON DUPLICATE KEY UPDATE'.format(table=table, keys=keys, values=values)\n",
    "update = ','.join([\" {key} = %s\".format(key=key) for key in data])\n",
    "sql += update\n",
    "try:\n",
    "    if cursor.execute(sql, tuple(data.values())*2):\n",
    "        print('Successful')\n",
    "        db.commit()\n",
    "except:\n",
    "    print('Failed')\n",
    "    db.rollback()\n",
    "db.close()    \n",
    "    \n",
    "    "
   ]
  },
  {
   "cell_type": "code",
   "execution_count": 58,
   "metadata": {},
   "outputs": [],
   "source": [
    "db = pymysql.connect(host='localhost', user='root', password='123456',port=3306, db='spiders')\n",
    "cursor = db.cursor()\n",
    "\n",
    "table = 'students'\n",
    "condition = 'age > 20'\n",
    "sql = 'DELETE FROM {table} WHERE {condition}'.format(table=table, condition=condition)\n",
    "try:\n",
    "    cursor.execute(sql)\n",
    "except:\n",
    "    db.rollback()\n",
    "db.close()    "
   ]
  },
  {
   "cell_type": "code",
   "execution_count": 60,
   "metadata": {},
   "outputs": [
    {
     "name": "stdout",
     "output_type": "stream",
     "text": [
      "Count: 2\n",
      "One: ('20120001', 'Bob', 21)\n",
      "Results: (('20180001', 'Bob', 25),)\n",
      "Result type: <class 'tuple'>\n",
      "('20180001', 'Bob', 25)\n"
     ]
    }
   ],
   "source": [
    "db = pymysql.connect(host='localhost', user='root', password='123456',port=3306, db='spiders')\n",
    "cursor = db.cursor()\n",
    "\n",
    "sql = 'SELECT * FROM students WHERE age >= 20'\n",
    "\n",
    "try:\n",
    "    cursor.execute(sql)\n",
    "    print('Count:', cursor.rowcount)\n",
    "    one = cursor.fetchone()\n",
    "    print('One:', one)\n",
    "    results = cursor.fetchall()\n",
    "    print('Results:', results)\n",
    "    print('Result type:', type(results))\n",
    "    for row in results:\n",
    "        print(row)\n",
    "except:\n",
    "    print('Error')"
   ]
  },
  {
   "cell_type": "code",
   "execution_count": 61,
   "metadata": {},
   "outputs": [],
   "source": [
    "db.close()"
   ]
  },
  {
   "cell_type": "code",
   "execution_count": 63,
   "metadata": {},
   "outputs": [
    {
     "name": "stdout",
     "output_type": "stream",
     "text": [
      "Count: 2\n",
      "Row: ('20120001', 'Bob', 21)\n",
      "Row: ('20180001', 'Bob', 25)\n"
     ]
    }
   ],
   "source": [
    "db = pymysql.connect(host='localhost', user='root', password='123456',port=3306, db='spiders')\n",
    "cursor = db.cursor()\n",
    "\n",
    "sql = 'SELECT * FROM students WHERE age >= 20'\n",
    "\n",
    "try:\n",
    "    cursor.execute(sql)\n",
    "    print('Count:', cursor.rowcount)\n",
    "    row = cursor.fetchone()\n",
    "    while row:\n",
    "        print('Row:', row)\n",
    "        row = cursor.fetchone()\n",
    "except:\n",
    "    print('Error')"
   ]
  },
  {
   "cell_type": "code",
   "execution_count": 78,
   "metadata": {},
   "outputs": [],
   "source": [
    "import pymongo\n",
    "client = pymongo.MongoClient(host='localhost', port=27017)\n"
   ]
  },
  {
   "cell_type": "code",
   "execution_count": 66,
   "metadata": {},
   "outputs": [],
   "source": [
    "client = pymongo.MongoClient('mongodb://localhost:27017/')"
   ]
  },
  {
   "cell_type": "code",
   "execution_count": 79,
   "metadata": {},
   "outputs": [],
   "source": [
    "db = client.test\n",
    "# db = client['test']"
   ]
  },
  {
   "cell_type": "code",
   "execution_count": 80,
   "metadata": {},
   "outputs": [],
   "source": [
    "collection = db.students\n",
    "# collection = db['students']"
   ]
  },
  {
   "cell_type": "code",
   "execution_count": 81,
   "metadata": {},
   "outputs": [
    {
     "name": "stdout",
     "output_type": "stream",
     "text": [
      "<pymongo.results.InsertOneResult object at 0x000001F3079437C8>\n"
     ]
    }
   ],
   "source": [
    "student = {\n",
    "    'id': '20170101',\n",
    "    'name': 'Jordan',\n",
    "    'age': 20,\n",
    "    'gender': 'male'\n",
    "}\n",
    "\n",
    "result = collection.insert_one(student)\n",
    "print(result)"
   ]
  },
  {
   "cell_type": "code",
   "execution_count": 82,
   "metadata": {},
   "outputs": [
    {
     "name": "stdout",
     "output_type": "stream",
     "text": [
      "<pymongo.results.InsertManyResult object at 0x000001F307943D08>\n"
     ]
    }
   ],
   "source": [
    "student1 = {\n",
    "    'id': '20170101',\n",
    "    'name': 'Jordan',\n",
    "    'age': 20,\n",
    "    'gender': 'male'\n",
    "}\n",
    "\n",
    "student2 = {\n",
    "    'id': '20170202',\n",
    "    'name': 'Mike',\n",
    "    'age': 21,\n",
    "    'gender': 'male'\n",
    "}\n",
    "\n",
    "result = collection.insert_many([student1, student2])\n",
    "print(result)"
   ]
  },
  {
   "cell_type": "code",
   "execution_count": 83,
   "metadata": {},
   "outputs": [
    {
     "data": {
      "text/plain": [
       "pymongo.collection.Collection"
      ]
     },
     "execution_count": 83,
     "metadata": {},
     "output_type": "execute_result"
    }
   ],
   "source": [
    "type(collection)"
   ]
  },
  {
   "cell_type": "code",
   "execution_count": 84,
   "metadata": {},
   "outputs": [
    {
     "data": {
      "text/plain": [
       "Collection(Database(MongoClient(host=['localhost:27017'], document_class=dict, tz_aware=False, connect=True), 'test'), 'students')"
      ]
     },
     "execution_count": 84,
     "metadata": {},
     "output_type": "execute_result"
    }
   ],
   "source": [
    "collection"
   ]
  },
  {
   "cell_type": "code",
   "execution_count": 85,
   "metadata": {},
   "outputs": [
    {
     "name": "stdout",
     "output_type": "stream",
     "text": [
      "<class 'dict'>\n",
      "{'_id': ObjectId('5afd35e6689a04396020a788'), 'id': '20170202', 'name': 'Mike', 'age': 21, 'gender': 'male'}\n"
     ]
    }
   ],
   "source": [
    "result = collection.find_one({'name': 'Mike'})\n",
    "print(type(result))\n",
    "print(result)"
   ]
  },
  {
   "cell_type": "code",
   "execution_count": 86,
   "metadata": {},
   "outputs": [
    {
     "name": "stdout",
     "output_type": "stream",
     "text": [
      "{'_id': ObjectId('5afd35e6689a04396020a788'), 'id': '20170202', 'name': 'Mike', 'age': 21, 'gender': 'male'}\n"
     ]
    }
   ],
   "source": [
    "from bson.objectid import ObjectId\n",
    "\n",
    "result = collection.find_one({'_id': ObjectId('5afd35e6689a04396020a788')})\n",
    "print(result)"
   ]
  },
  {
   "cell_type": "code",
   "execution_count": 88,
   "metadata": {},
   "outputs": [
    {
     "name": "stdout",
     "output_type": "stream",
     "text": [
      "<pymongo.cursor.Cursor object at 0x000001F30794B208>\n",
      "{'_id': ObjectId('5afd35e3689a04396020a786'), 'id': '20170101', 'name': 'Jordan', 'age': 20, 'gender': 'male'}\n",
      "{'_id': ObjectId('5afd35e6689a04396020a787'), 'id': '20170101', 'name': 'Jordan', 'age': 20, 'gender': 'male'}\n"
     ]
    }
   ],
   "source": [
    "results = collection.find({'age':20})\n",
    "print(results)\n",
    "for result in results:\n",
    "    print(result)"
   ]
  },
  {
   "cell_type": "code",
   "execution_count": 91,
   "metadata": {},
   "outputs": [
    {
     "name": "stdout",
     "output_type": "stream",
     "text": [
      "<pymongo.cursor.Cursor object at 0x000001F30794BBE0>\n",
      "{'_id': ObjectId('5afd35e6689a04396020a788'), 'id': '20170202', 'name': 'Mike', 'age': 21, 'gender': 'male'}\n"
     ]
    }
   ],
   "source": [
    "results = collection.find({'age':{'$gt':20}})\n",
    "print(results)\n",
    "for result in results:\n",
    "    print(result)"
   ]
  },
  {
   "cell_type": "code",
   "execution_count": 94,
   "metadata": {},
   "outputs": [
    {
     "name": "stdout",
     "output_type": "stream",
     "text": [
      "<generator object <genexpr> at 0x000001F307944E60>\n"
     ]
    }
   ],
   "source": [
    "results = collection.find({'name': {'$regex':'^M.*'}})"
   ]
  },
  {
   "cell_type": "code",
   "execution_count": 96,
   "metadata": {},
   "outputs": [
    {
     "name": "stdout",
     "output_type": "stream",
     "text": [
      "3\n",
      "2\n"
     ]
    }
   ],
   "source": [
    "count = collection.find().count()\n",
    "print(count)\n",
    "\n",
    "count1 = collection.find({'age':20}).count()\n",
    "print(count1)"
   ]
  },
  {
   "cell_type": "code",
   "execution_count": 97,
   "metadata": {},
   "outputs": [
    {
     "name": "stdout",
     "output_type": "stream",
     "text": [
      "['Jordan', 'Jordan', 'Mike']\n"
     ]
    }
   ],
   "source": [
    "results = collection.find().sort('name', pymongo.ASCENDING)\n",
    "print([result['name'] for result in results])"
   ]
  },
  {
   "cell_type": "code",
   "execution_count": 99,
   "metadata": {},
   "outputs": [
    {
     "name": "stdout",
     "output_type": "stream",
     "text": [
      "['Mike']\n"
     ]
    }
   ],
   "source": [
    "results = collection.find().sort('name', pymongo.ASCENDING).skip(2)\n",
    "print([result['name'] for result in results])"
   ]
  },
  {
   "cell_type": "code",
   "execution_count": 100,
   "metadata": {},
   "outputs": [
    {
     "name": "stdout",
     "output_type": "stream",
     "text": [
      "['Jordan', 'Mike']\n"
     ]
    }
   ],
   "source": [
    "results = collection.find().sort('name', pymongo.ASCENDING).skip(1).limit(2)\n",
    "print([result['name'] for result in results])"
   ]
  },
  {
   "cell_type": "code",
   "execution_count": 101,
   "metadata": {},
   "outputs": [
    {
     "data": {
      "text/plain": [
       "<pymongo.cursor.Cursor at 0x1f307948860>"
      ]
     },
     "execution_count": 101,
     "metadata": {},
     "output_type": "execute_result"
    }
   ],
   "source": [
    "from bson.objectid import ObjectId\n",
    "collection.find({'_id': {'$gt': ObjectId('5afd35e6689a04396020a788')}})"
   ]
  },
  {
   "cell_type": "code",
   "execution_count": 110,
   "metadata": {},
   "outputs": [
    {
     "name": "stdout",
     "output_type": "stream",
     "text": [
      "<pymongo.results.UpdateResult object at 0x000001F30790C708>\n"
     ]
    }
   ],
   "source": [
    "condition = {'name':'Jordan'}\n",
    "student = collection.find_one(condition)\n",
    "student['age'] = 20\n",
    "result = collection.update_one(condition, {'$set':student})\n",
    "print(result)"
   ]
  },
  {
   "cell_type": "code",
   "execution_count": 108,
   "metadata": {},
   "outputs": [
    {
     "name": "stdout",
     "output_type": "stream",
     "text": [
      "<pymongo.results.UpdateResult object at 0x000001F307924B08>\n"
     ]
    }
   ],
   "source": [
    "result = collection.update_one(condition, {'$set':student})\n",
    "print(result)\n"
   ]
  },
  {
   "cell_type": "code",
   "execution_count": 111,
   "metadata": {},
   "outputs": [
    {
     "name": "stdout",
     "output_type": "stream",
     "text": [
      "<pymongo.results.UpdateResult object at 0x000001F3079249C8>\n",
      "1 1\n"
     ]
    }
   ],
   "source": [
    "condition = {'age': {'$gt': 20}}\n",
    "result = collection.update_many(condition, {'$inc': {'age': 1}})\n",
    "print(result)\n",
    "print(result.matched_count, result.modified_count)"
   ]
  },
  {
   "cell_type": "code",
   "execution_count": 114,
   "metadata": {},
   "outputs": [
    {
     "name": "stdout",
     "output_type": "stream",
     "text": [
      "<pymongo.results.DeleteResult object at 0x000001F307943248>\n"
     ]
    }
   ],
   "source": [
    "result = collection.delete_one({'name':'Jordan'})\n",
    "print(result)"
   ]
  },
  {
   "cell_type": "code",
   "execution_count": null,
   "metadata": {},
   "outputs": [],
   "source": []
  }
 ],
 "metadata": {
  "kernelspec": {
   "display_name": "Python 3",
   "language": "python",
   "name": "python3"
  },
  "language_info": {
   "codemirror_mode": {
    "name": "ipython",
    "version": 3
   },
   "file_extension": ".py",
   "mimetype": "text/x-python",
   "name": "python",
   "nbconvert_exporter": "python",
   "pygments_lexer": "ipython3",
   "version": "3.6.5"
  }
 },
 "nbformat": 4,
 "nbformat_minor": 2
}
