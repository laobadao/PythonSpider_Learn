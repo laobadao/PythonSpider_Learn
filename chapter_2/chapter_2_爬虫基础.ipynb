{
 "cells": [
  {
   "cell_type": "markdown",
   "metadata": {},
   "source": [
    "# Python3 网络爬虫开发实战 | 第二章_爬虫基础 学习笔记\n",
    "\n",
    "站在巨人的肩膀上学习，感谢崔庆才大神，本系列仅记录学习笔记及个人理解，若有错误，还望批评指教。——ZJ\n",
    "\n",
    ">原书作者：崔庆才 ，网站 https://cuiqingcai.com/ | Github : https://github.com/Germey\n"
   ]
  },
  {
   "cell_type": "code",
   "execution_count": null,
   "metadata": {},
   "outputs": [],
   "source": []
  }
 ],
 "metadata": {
  "kernelspec": {
   "display_name": "Python 3",
   "language": "python",
   "name": "python3"
  },
  "language_info": {
   "codemirror_mode": {
    "name": "ipython",
    "version": 3
   },
   "file_extension": ".py",
   "mimetype": "text/x-python",
   "name": "python",
   "nbconvert_exporter": "python",
   "pygments_lexer": "ipython3",
   "version": "3.6.5"
  }
 },
 "nbformat": 4,
 "nbformat_minor": 2
}
