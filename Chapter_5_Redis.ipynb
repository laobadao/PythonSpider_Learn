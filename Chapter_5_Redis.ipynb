{
 "cells": [
  {
   "cell_type": "markdown",
   "metadata": {},
   "source": [
    "### 5.3.2-Redis存储\n",
    "\n",
    "Redis是一个基于内存的高效的键值型非关系型数据库，存取效率极高，而且支持多种存储数据结构，使用也非常简单。本节中，我们就来介绍一下Python的Redis操作，主要介绍RedisPy这个库的用法。\n"
   ]
  },
  {
   "cell_type": "code",
   "execution_count": 6,
   "metadata": {},
   "outputs": [
    {
     "name": "stdout",
     "output_type": "stream",
     "text": [
      "b'Bob'\n"
     ]
    }
   ],
   "source": [
    "from redis import StrictRedis\n",
    "\n",
    "redis = StrictRedis(host='localhost', port=6379, db=0)\n",
    "redis.set('name', 'Bob')\n",
    "print(redis.get('name'))"
   ]
  },
  {
   "cell_type": "code",
   "execution_count": 7,
   "metadata": {},
   "outputs": [],
   "source": [
    "from redis import StrictRedis, ConnectionPool\n",
    "\n",
    "pool = ConnectionPool(host='localhost', port=6379, db=0, password='foobared')\n",
    "redis = StrictRedis(connection_pool=pool)"
   ]
  },
  {
   "cell_type": "code",
   "execution_count": 8,
   "metadata": {},
   "outputs": [],
   "source": [
    "url = 'redis://foobared@localhost:6379/0'\n",
    "pool = ConnectionPool.from_url(url)\n",
    "redis = StrictRedis(connection_pool=pool)"
   ]
  },
  {
   "cell_type": "code",
   "execution_count": 2,
   "metadata": {},
   "outputs": [
    {
     "name": "stdout",
     "output_type": "stream",
     "text": [
      "  Try: D:/Ruby24-x64/bin/redis-dump show-commands\n",
      "Usage: D:/Ruby24-x64/bin/redis-dump [global options] COMMAND [command options] \n",
      "    -u, --uri=S                      Redis URI (e.g. redis://hostname[:port])\n",
      "    -d, --database=S                 Redis database (e.g. -d 15)\n",
      "    -a, --password=S                 Redis password (e.g. -a 'my@pass/word')\n",
      "    -s, --sleep=S                    Sleep for S seconds after dumping (for debugging)\n",
      "    -c, --count=S                    Chunk size (default: 10000)\n",
      "    -f, --filter=S                   Filter selected keys (passed directly to redis' KEYS command)\n",
      "    -b, --base64                     Encode key values as base64 (useful for binary values)\n",
      "    -O, --without_optimizations      Disable run time optimizations\n",
      "    -V, --version                    Display version\n",
      "    -D, --debug\n",
      "        --nosafe\n"
     ]
    }
   ],
   "source": [
    "!redis-dump -h"
   ]
  },
  {
   "cell_type": "code",
   "execution_count": 9,
   "metadata": {},
   "outputs": [
    {
     "name": "stderr",
     "output_type": "stream",
     "text": [
      "ERROR (Errno::ENOENT): No such file or directory - ps -o rss= -p 11496\n"
     ]
    }
   ],
   "source": [
    "!redis-dump -u 127.0.0.1:6379"
   ]
  },
  {
   "cell_type": "code",
   "execution_count": 7,
   "metadata": {},
   "outputs": [
    {
     "name": "stderr",
     "output_type": "stream",
     "text": [
      "ERROR (Errno::ENOENT): No such file or directory - ps -o rss= -p 13476\n"
     ]
    }
   ],
   "source": [
    "!redis-dump -u 127.0.0.1:6379     "
   ]
  },
  {
   "cell_type": "code",
   "execution_count": null,
   "metadata": {},
   "outputs": [],
   "source": []
  }
 ],
 "metadata": {
  "kernelspec": {
   "display_name": "Python 3",
   "language": "python",
   "name": "python3"
  },
  "language_info": {
   "codemirror_mode": {
    "name": "ipython",
    "version": 3
   },
   "file_extension": ".py",
   "mimetype": "text/x-python",
   "name": "python",
   "nbconvert_exporter": "python",
   "pygments_lexer": "ipython3",
   "version": "3.6.5"
  }
 },
 "nbformat": 4,
 "nbformat_minor": 2
}
